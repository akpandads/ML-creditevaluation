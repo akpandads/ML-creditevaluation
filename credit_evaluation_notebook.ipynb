{
 "cells": [
  {
   "cell_type": "markdown",
   "metadata": {},
   "source": [
    "# Credit Evaluation Notebook"
   ]
  },
  {
   "cell_type": "markdown",
   "metadata": {},
   "source": [
    "Import All required modules"
   ]
  },
  {
   "cell_type": "code",
   "execution_count": 1,
   "metadata": {},
   "outputs": [],
   "source": [
    "import pandas as pd\n",
    "import sklearn as sk\n",
    "import seaborn as sns\n",
    "from scipy import stats\n",
    "import numpy as np\n",
    "from sklearn.preprocessing import LabelEncoder\n",
    "from sklearn.metrics import accuracy_score, log_loss\n",
    "from sklearn.neighbors import KNeighborsClassifier\n",
    "from sklearn.svm import SVC, LinearSVC, NuSVC\n",
    "from sklearn.tree import DecisionTreeClassifier\n",
    "from sklearn.ensemble import RandomForestClassifier, AdaBoostClassifier, GradientBoostingClassifier\n",
    "from sklearn.naive_bayes import GaussianNB\n",
    "from sklearn.discriminant_analysis import LinearDiscriminantAnalysis\n",
    "from sklearn.discriminant_analysis import QuadraticDiscriminantAnalysis\n",
    "from sklearn.model_selection import train_test_split"
   ]
  },
  {
   "cell_type": "markdown",
   "metadata": {},
   "source": [
    "Load tarining data and read file"
   ]
  },
  {
   "cell_type": "code",
   "execution_count": 2,
   "metadata": {},
   "outputs": [],
   "source": [
    "crdit_raw = pd.read_csv('training.csv')"
   ]
  },
  {
   "cell_type": "code",
   "execution_count": 3,
   "metadata": {},
   "outputs": [
    {
     "data": {
      "text/html": [
       "<div>\n",
       "<style scoped>\n",
       "    .dataframe tbody tr th:only-of-type {\n",
       "        vertical-align: middle;\n",
       "    }\n",
       "\n",
       "    .dataframe tbody tr th {\n",
       "        vertical-align: top;\n",
       "    }\n",
       "\n",
       "    .dataframe thead th {\n",
       "        text-align: right;\n",
       "    }\n",
       "</style>\n",
       "<table border=\"1\" class=\"dataframe\">\n",
       "  <thead>\n",
       "    <tr style=\"text-align: right;\">\n",
       "      <th></th>\n",
       "      <th>customer_id</th>\n",
       "      <th>est_income</th>\n",
       "      <th>hold_bal</th>\n",
       "      <th>pref_cust_prob</th>\n",
       "      <th>imp_cscore</th>\n",
       "      <th>RiskScore</th>\n",
       "      <th>imp_crediteval</th>\n",
       "      <th>axio_score</th>\n",
       "    </tr>\n",
       "  </thead>\n",
       "  <tbody>\n",
       "    <tr>\n",
       "      <th>count</th>\n",
       "      <td>10000.000000</td>\n",
       "      <td>10000.000000</td>\n",
       "      <td>10000.000000</td>\n",
       "      <td>10000.000000</td>\n",
       "      <td>10000.000000</td>\n",
       "      <td>10000.000000</td>\n",
       "      <td>10000.000000</td>\n",
       "      <td>10000.000000</td>\n",
       "    </tr>\n",
       "    <tr>\n",
       "      <th>mean</th>\n",
       "      <td>496819.831400</td>\n",
       "      <td>65853.355259</td>\n",
       "      <td>20.962621</td>\n",
       "      <td>0.329419</td>\n",
       "      <td>662.548800</td>\n",
       "      <td>670.042869</td>\n",
       "      <td>25.692162</td>\n",
       "      <td>0.393211</td>\n",
       "    </tr>\n",
       "    <tr>\n",
       "      <th>std</th>\n",
       "      <td>287391.314157</td>\n",
       "      <td>31093.369592</td>\n",
       "      <td>18.841121</td>\n",
       "      <td>0.223299</td>\n",
       "      <td>90.549985</td>\n",
       "      <td>89.965854</td>\n",
       "      <td>1.889274</td>\n",
       "      <td>0.288243</td>\n",
       "    </tr>\n",
       "    <tr>\n",
       "      <th>min</th>\n",
       "      <td>244.000000</td>\n",
       "      <td>2.054543</td>\n",
       "      <td>-2.140206</td>\n",
       "      <td>0.001781</td>\n",
       "      <td>500.000000</td>\n",
       "      <td>324.436647</td>\n",
       "      <td>21.363123</td>\n",
       "      <td>-0.000052</td>\n",
       "    </tr>\n",
       "    <tr>\n",
       "      <th>25%</th>\n",
       "      <td>245172.500000</td>\n",
       "      <td>39165.786086</td>\n",
       "      <td>6.150577</td>\n",
       "      <td>0.156965</td>\n",
       "      <td>600.000000</td>\n",
       "      <td>609.231181</td>\n",
       "      <td>24.295435</td>\n",
       "      <td>0.139424</td>\n",
       "    </tr>\n",
       "    <tr>\n",
       "      <th>50%</th>\n",
       "      <td>495734.000000</td>\n",
       "      <td>76903.628763</td>\n",
       "      <td>11.913366</td>\n",
       "      <td>0.272263</td>\n",
       "      <td>655.000000</td>\n",
       "      <td>669.493442</td>\n",
       "      <td>25.611903</td>\n",
       "      <td>0.337841</td>\n",
       "    </tr>\n",
       "    <tr>\n",
       "      <th>75%</th>\n",
       "      <td>745475.250000</td>\n",
       "      <td>91032.514900</td>\n",
       "      <td>32.238914</td>\n",
       "      <td>0.459890</td>\n",
       "      <td>727.000000</td>\n",
       "      <td>730.484985</td>\n",
       "      <td>27.062519</td>\n",
       "      <td>0.624886</td>\n",
       "    </tr>\n",
       "    <tr>\n",
       "      <th>max</th>\n",
       "      <td>999870.000000</td>\n",
       "      <td>150538.809704</td>\n",
       "      <td>81.759632</td>\n",
       "      <td>1.144357</td>\n",
       "      <td>849.000000</td>\n",
       "      <td>1004.497869</td>\n",
       "      <td>30.131214</td>\n",
       "      <td>1.000000</td>\n",
       "    </tr>\n",
       "  </tbody>\n",
       "</table>\n",
       "</div>"
      ],
      "text/plain": [
       "         customer_id     est_income      hold_bal  pref_cust_prob  \\\n",
       "count   10000.000000   10000.000000  10000.000000    10000.000000   \n",
       "mean   496819.831400   65853.355259     20.962621        0.329419   \n",
       "std    287391.314157   31093.369592     18.841121        0.223299   \n",
       "min       244.000000       2.054543     -2.140206        0.001781   \n",
       "25%    245172.500000   39165.786086      6.150577        0.156965   \n",
       "50%    495734.000000   76903.628763     11.913366        0.272263   \n",
       "75%    745475.250000   91032.514900     32.238914        0.459890   \n",
       "max    999870.000000  150538.809704     81.759632        1.144357   \n",
       "\n",
       "         imp_cscore     RiskScore  imp_crediteval    axio_score  \n",
       "count  10000.000000  10000.000000    10000.000000  10000.000000  \n",
       "mean     662.548800    670.042869       25.692162      0.393211  \n",
       "std       90.549985     89.965854        1.889274      0.288243  \n",
       "min      500.000000    324.436647       21.363123     -0.000052  \n",
       "25%      600.000000    609.231181       24.295435      0.139424  \n",
       "50%      655.000000    669.493442       25.611903      0.337841  \n",
       "75%      727.000000    730.484985       27.062519      0.624886  \n",
       "max      849.000000   1004.497869       30.131214      1.000000  "
      ]
     },
     "execution_count": 3,
     "metadata": {},
     "output_type": "execute_result"
    }
   ],
   "source": [
    "crdit_raw.describe()"
   ]
  },
  {
   "cell_type": "code",
   "execution_count": 4,
   "metadata": {},
   "outputs": [
    {
     "data": {
      "text/html": [
       "<div>\n",
       "<style scoped>\n",
       "    .dataframe tbody tr th:only-of-type {\n",
       "        vertical-align: middle;\n",
       "    }\n",
       "\n",
       "    .dataframe tbody tr th {\n",
       "        vertical-align: top;\n",
       "    }\n",
       "\n",
       "    .dataframe thead th {\n",
       "        text-align: right;\n",
       "    }\n",
       "</style>\n",
       "<table border=\"1\" class=\"dataframe\">\n",
       "  <thead>\n",
       "    <tr style=\"text-align: right;\">\n",
       "      <th></th>\n",
       "      <th>customer_id</th>\n",
       "      <th>demographic_slice</th>\n",
       "      <th>country_reg</th>\n",
       "      <th>ad_exp</th>\n",
       "      <th>est_income</th>\n",
       "      <th>hold_bal</th>\n",
       "      <th>pref_cust_prob</th>\n",
       "      <th>imp_cscore</th>\n",
       "      <th>RiskScore</th>\n",
       "      <th>imp_crediteval</th>\n",
       "      <th>axio_score</th>\n",
       "      <th>card_offer</th>\n",
       "    </tr>\n",
       "  </thead>\n",
       "  <tbody>\n",
       "    <tr>\n",
       "      <th>0</th>\n",
       "      <td>713782</td>\n",
       "      <td>AX03efs</td>\n",
       "      <td>W</td>\n",
       "      <td>N</td>\n",
       "      <td>33407.901749</td>\n",
       "      <td>3.000000</td>\n",
       "      <td>0.531112</td>\n",
       "      <td>619</td>\n",
       "      <td>503.249027</td>\n",
       "      <td>23.977827</td>\n",
       "      <td>0.137289</td>\n",
       "      <td>False</td>\n",
       "    </tr>\n",
       "    <tr>\n",
       "      <th>1</th>\n",
       "      <td>515901</td>\n",
       "      <td>AX03efs</td>\n",
       "      <td>E</td>\n",
       "      <td>N</td>\n",
       "      <td>19927.533533</td>\n",
       "      <td>20.257927</td>\n",
       "      <td>0.297439</td>\n",
       "      <td>527</td>\n",
       "      <td>820.108146</td>\n",
       "      <td>22.986398</td>\n",
       "      <td>0.052264</td>\n",
       "      <td>False</td>\n",
       "    </tr>\n",
       "    <tr>\n",
       "      <th>2</th>\n",
       "      <td>95166</td>\n",
       "      <td>AX03efs</td>\n",
       "      <td>W</td>\n",
       "      <td>Y</td>\n",
       "      <td>51222.470997</td>\n",
       "      <td>4.000000</td>\n",
       "      <td>0.018463</td>\n",
       "      <td>606</td>\n",
       "      <td>586.605795</td>\n",
       "      <td>24.939219</td>\n",
       "      <td>0.452035</td>\n",
       "      <td>False</td>\n",
       "    </tr>\n",
       "    <tr>\n",
       "      <th>3</th>\n",
       "      <td>425557</td>\n",
       "      <td>AX03efs</td>\n",
       "      <td>E</td>\n",
       "      <td>Y</td>\n",
       "      <td>67211.587467</td>\n",
       "      <td>18.653631</td>\n",
       "      <td>0.089344</td>\n",
       "      <td>585</td>\n",
       "      <td>634.701982</td>\n",
       "      <td>24.841147</td>\n",
       "      <td>0.564619</td>\n",
       "      <td>False</td>\n",
       "    </tr>\n",
       "    <tr>\n",
       "      <th>4</th>\n",
       "      <td>624581</td>\n",
       "      <td>AX03efs</td>\n",
       "      <td>W</td>\n",
       "      <td>N</td>\n",
       "      <td>20093.342158</td>\n",
       "      <td>4.000000</td>\n",
       "      <td>0.094948</td>\n",
       "      <td>567</td>\n",
       "      <td>631.949979</td>\n",
       "      <td>24.679363</td>\n",
       "      <td>0.917304</td>\n",
       "      <td>False</td>\n",
       "    </tr>\n",
       "  </tbody>\n",
       "</table>\n",
       "</div>"
      ],
      "text/plain": [
       "   customer_id demographic_slice country_reg ad_exp    est_income   hold_bal  \\\n",
       "0       713782           AX03efs           W      N  33407.901749   3.000000   \n",
       "1       515901           AX03efs           E      N  19927.533533  20.257927   \n",
       "2        95166           AX03efs           W      Y  51222.470997   4.000000   \n",
       "3       425557           AX03efs           E      Y  67211.587467  18.653631   \n",
       "4       624581           AX03efs           W      N  20093.342158   4.000000   \n",
       "\n",
       "   pref_cust_prob  imp_cscore   RiskScore  imp_crediteval  axio_score  \\\n",
       "0        0.531112         619  503.249027       23.977827    0.137289   \n",
       "1        0.297439         527  820.108146       22.986398    0.052264   \n",
       "2        0.018463         606  586.605795       24.939219    0.452035   \n",
       "3        0.089344         585  634.701982       24.841147    0.564619   \n",
       "4        0.094948         567  631.949979       24.679363    0.917304   \n",
       "\n",
       "   card_offer  \n",
       "0       False  \n",
       "1       False  \n",
       "2       False  \n",
       "3       False  \n",
       "4       False  "
      ]
     },
     "execution_count": 4,
     "metadata": {},
     "output_type": "execute_result"
    }
   ],
   "source": [
    " crdit_raw.head()"
   ]
  },
  {
   "cell_type": "markdown",
   "metadata": {},
   "source": [
    "Now that we have an overview, dealing with each each column data and null values"
   ]
  },
  {
   "cell_type": "code",
   "execution_count": 5,
   "metadata": {},
   "outputs": [
    {
     "data": {
      "text/plain": [
       "customer_id          False\n",
       "demographic_slice    False\n",
       "country_reg          False\n",
       "ad_exp               False\n",
       "est_income           False\n",
       "hold_bal             False\n",
       "pref_cust_prob       False\n",
       "imp_cscore           False\n",
       "RiskScore            False\n",
       "imp_crediteval       False\n",
       "axio_score           False\n",
       "card_offer           False\n",
       "dtype: bool"
      ]
     },
     "execution_count": 5,
     "metadata": {},
     "output_type": "execute_result"
    }
   ],
   "source": [
    "crdit_raw.isnull().any()"
   ]
  },
  {
   "cell_type": "code",
   "execution_count": 6,
   "metadata": {},
   "outputs": [
    {
     "data": {
      "text/plain": [
       "Index([], dtype='object')"
      ]
     },
     "execution_count": 6,
     "metadata": {},
     "output_type": "execute_result"
    }
   ],
   "source": [
    "crdit_raw.columns[crdit_raw.isnull().any()]"
   ]
  },
  {
   "cell_type": "markdown",
   "metadata": {},
   "source": [
    "There are no missing values, so no need to compute aor deal with missing values"
   ]
  },
  {
   "cell_type": "markdown",
   "metadata": {},
   "source": [
    "We need to remove outliers if any from each column. This will ensure the results are not skewed"
   ]
  },
  {
   "cell_type": "code",
   "execution_count": 7,
   "metadata": {},
   "outputs": [
    {
     "data": {
      "text/plain": [
       "<matplotlib.axes._subplots.AxesSubplot at 0x1f72acef390>"
      ]
     },
     "execution_count": 7,
     "metadata": {},
     "output_type": "execute_result"
    },
    {
     "data": {
      "image/png": "[encoded data removed]",
      "text/plain": [
       "<matplotlib.figure.Figure at 0x1f72acc4fd0>"
      ]
     },
     "metadata": {},
     "output_type": "display_data"
    }
   ],
   "source": [
    "sns.boxplot(x=crdit_raw['est_income'])\n"
   ]
  },
  {
   "cell_type": "code",
   "execution_count": 8,
   "metadata": {},
   "outputs": [
    {
     "data": {
      "text/plain": [
       "<matplotlib.axes._subplots.AxesSubplot at 0x1f72ad93f98>"
      ]
     },
     "execution_count": 8,
     "metadata": {},
     "output_type": "execute_result"
    },
    {
     "data": {
      "image/png": "[encoded data removed]",
      "text/plain": [
       "<matplotlib.figure.Figure at 0x1f72ad75d68>"
      ]
     },
     "metadata": {},
     "output_type": "display_data"
    }
   ],
   "source": [
    "sns.boxplot(x=crdit_raw['hold_bal'])\n"
   ]
  },
  {
   "cell_type": "code",
   "execution_count": 9,
   "metadata": {},
   "outputs": [
    {
     "data": {
      "text/plain": [
       "<matplotlib.axes._subplots.AxesSubplot at 0x1f72b08a940>"
      ]
     },
     "execution_count": 9,
     "metadata": {},
     "output_type": "execute_result"
    },
    {
     "data": {
      "image/png": "[encoded data removed]",
      "text/plain": [
       "<matplotlib.figure.Figure at 0x1f72b0553c8>"
      ]
     },
     "metadata": {},
     "output_type": "display_data"
    }
   ],
   "source": [
    "sns.boxplot(x=crdit_raw['pref_cust_prob'])\n"
   ]
  },
  {
   "cell_type": "code",
   "execution_count": 10,
   "metadata": {},
   "outputs": [
    {
     "data": {
      "text/plain": [
       "<matplotlib.axes._subplots.AxesSubplot at 0x1f72b0db358>"
      ]
     },
     "execution_count": 10,
     "metadata": {},
     "output_type": "execute_result"
    },
    {
     "data": {
      "image/png": "[encoded data removed]",
      "text/plain": [
       "<matplotlib.figure.Figure at 0x1f72b0afba8>"
      ]
     },
     "metadata": {},
     "output_type": "display_data"
    }
   ],
   "source": [
    "sns.boxplot(x=crdit_raw['imp_cscore'])\n"
   ]
  },
  {
   "cell_type": "code",
   "execution_count": 11,
   "metadata": {},
   "outputs": [
    {
     "data": {
      "text/plain": [
       "<matplotlib.axes._subplots.AxesSubplot at 0x1f72b141860>"
      ]
     },
     "execution_count": 11,
     "metadata": {},
     "output_type": "execute_result"
    },
    {
     "data": {
      "image/png": "[encoded data removed]",
      "text/plain": [
       "<matplotlib.figure.Figure at 0x1f72b11e940>"
      ]
     },
     "metadata": {},
     "output_type": "display_data"
    }
   ],
   "source": [
    "sns.boxplot(x=crdit_raw['RiskScore'])\n"
   ]
  },
  {
   "cell_type": "code",
   "execution_count": 12,
   "metadata": {},
   "outputs": [
    {
     "data": {
      "text/plain": [
       "<matplotlib.axes._subplots.AxesSubplot at 0x1f72b192e10>"
      ]
     },
     "execution_count": 12,
     "metadata": {},
     "output_type": "execute_result"
    },
    {
     "data": {
      "image/png": "[encoded data removed]",
      "text/plain": [
       "<matplotlib.figure.Figure at 0x1f72b1c0198>"
      ]
     },
     "metadata": {},
     "output_type": "display_data"
    }
   ],
   "source": [
    "sns.boxplot(x=crdit_raw['imp_crediteval'])\n"
   ]
  },
  {
   "cell_type": "code",
   "execution_count": 13,
   "metadata": {},
   "outputs": [
    {
     "data": {
      "text/plain": [
       "<matplotlib.axes._subplots.AxesSubplot at 0x1f72b0fb6a0>"
      ]
     },
     "execution_count": 13,
     "metadata": {},
     "output_type": "execute_result"
    },
    {
     "data": {
      "image/png": "[encoded data removed]",
      "text/plain": [
       "<matplotlib.figure.Figure at 0x1f72b1af160>"
      ]
     },
     "metadata": {},
     "output_type": "display_data"
    }
   ],
   "source": [
    "sns.boxplot(x=crdit_raw['axio_score'])"
   ]
  },
  {
   "cell_type": "markdown",
   "metadata": {},
   "source": [
    "We see there are outliers for the columns RiskScore, imp_cscore and pref_cust_prob . So we will need to remove those from our training data"
   ]
  },
  {
   "cell_type": "markdown",
   "metadata": {},
   "source": [
    "Box plot use the IQR method to display data and outliers(shape of the data) but in order to be get a list of identified outlier, we will need to use the mathematical formula and retrieve the outlier data."
   ]
  },
  {
   "cell_type": "code",
   "execution_count": 14,
   "metadata": {},
   "outputs": [
    {
     "name": "stdout",
     "output_type": "stream",
     "text": [
      "risk_score_IQR = 121.25380374369252\n",
      "imp_cscore_IQR = 127.0\n",
      "pref_cust_prob_IQR = 0.30292516581097373\n",
      "\n",
      "risk_score_min =427.35047536172647 ::::: risk_score_max =912.3656903364965\n",
      "imp_cscore_min =409.5 ::::: imp_cscore_max =917.5\n",
      "pref_cust_prob_min =-0.2974231051514481 ::::: pref_cust_prob_max =0.9142775580924468\n"
     ]
    }
   ],
   "source": [
    "risk_score_Q1 = crdit_raw['RiskScore'].quantile(0.25)\n",
    "risk_score_Q3 = crdit_raw['RiskScore'].quantile(0.75)\n",
    "risk_score_IQR = risk_score_Q3 - risk_score_Q1\n",
    "risk_score_min=risk_score_Q1 - (risk_score_IQR*1.5)\n",
    "risk_score_max=risk_score_Q3 + (risk_score_IQR*1.5)\n",
    "print(\"risk_score_IQR = \"+str(risk_score_IQR))\n",
    "\n",
    "\n",
    "imp_cscore_Q1 = crdit_raw['imp_cscore'].quantile(0.25)\n",
    "imp_cscore_Q3 = crdit_raw['imp_cscore'].quantile(0.75)\n",
    "imp_cscore_IQR = imp_cscore_Q3 - imp_cscore_Q1\n",
    "imp_cscore_min=imp_cscore_Q1 - (imp_cscore_IQR*1.5)\n",
    "imp_cscore_max=imp_cscore_Q3 + (imp_cscore_IQR*1.5)\n",
    "print(\"imp_cscore_IQR = \"+str(imp_cscore_IQR))\n",
    "\n",
    "\n",
    "pref_cust_prob_Q1 = crdit_raw['pref_cust_prob'].quantile(0.25)\n",
    "pref_cust_prob_Q3 = crdit_raw['pref_cust_prob'].quantile(0.75)\n",
    "pref_cust_prob_IQR = pref_cust_prob_Q3 - pref_cust_prob_Q1\n",
    "pref_cust_prob_min=pref_cust_prob_Q1 - (pref_cust_prob_IQR*1.5)\n",
    "pref_cust_prob_max=pref_cust_prob_Q3 + (pref_cust_prob_IQR*1.5)\n",
    "print(\"pref_cust_prob_IQR = \"+str(pref_cust_prob_IQR))\n",
    "print()\n",
    "print (\"risk_score_min =\"+str(risk_score_min) +\" ::::: \"+\"risk_score_max =\"+str(risk_score_max))\n",
    "print (\"imp_cscore_min =\"+str(imp_cscore_min) +\" ::::: \"+\"imp_cscore_max =\"+str(imp_cscore_max))\n",
    "print (\"pref_cust_prob_min =\"+str(pref_cust_prob_min) +\" ::::: \"+\"pref_cust_prob_max =\"+str(pref_cust_prob_max))"
   ]
  },
  {
   "cell_type": "markdown",
   "metadata": {},
   "source": [
    "### The above gives range of each IQR. Then we remove all th outliers from all the 3 columsn"
   ]
  },
  {
   "cell_type": "code",
   "execution_count": 15,
   "metadata": {},
   "outputs": [],
   "source": [
    "credit_no_outliers = crdit_raw.loc[(crdit_raw['RiskScore'] > risk_score_min) & (crdit_raw['RiskScore'] < risk_score_max)]\n"
   ]
  },
  {
   "cell_type": "code",
   "execution_count": 16,
   "metadata": {},
   "outputs": [
    {
     "data": {
      "text/html": [
       "<div>\n",
       "<style scoped>\n",
       "    .dataframe tbody tr th:only-of-type {\n",
       "        vertical-align: middle;\n",
       "    }\n",
       "\n",
       "    .dataframe tbody tr th {\n",
       "        vertical-align: top;\n",
       "    }\n",
       "\n",
       "    .dataframe thead th {\n",
       "        text-align: right;\n",
       "    }\n",
       "</style>\n",
       "<table border=\"1\" class=\"dataframe\">\n",
       "  <thead>\n",
       "    <tr style=\"text-align: right;\">\n",
       "      <th></th>\n",
       "      <th>customer_id</th>\n",
       "      <th>est_income</th>\n",
       "      <th>hold_bal</th>\n",
       "      <th>pref_cust_prob</th>\n",
       "      <th>imp_cscore</th>\n",
       "      <th>RiskScore</th>\n",
       "      <th>imp_crediteval</th>\n",
       "      <th>axio_score</th>\n",
       "    </tr>\n",
       "  </thead>\n",
       "  <tbody>\n",
       "    <tr>\n",
       "      <th>count</th>\n",
       "      <td>9926.000000</td>\n",
       "      <td>9926.000000</td>\n",
       "      <td>9926.000000</td>\n",
       "      <td>9926.000000</td>\n",
       "      <td>9926.000000</td>\n",
       "      <td>9926.000000</td>\n",
       "      <td>9926.000000</td>\n",
       "      <td>9926.000000</td>\n",
       "    </tr>\n",
       "    <tr>\n",
       "      <th>mean</th>\n",
       "      <td>497043.859057</td>\n",
       "      <td>65870.077277</td>\n",
       "      <td>20.980726</td>\n",
       "      <td>0.329679</td>\n",
       "      <td>662.437236</td>\n",
       "      <td>669.834437</td>\n",
       "      <td>25.688243</td>\n",
       "      <td>0.393086</td>\n",
       "    </tr>\n",
       "    <tr>\n",
       "      <th>std</th>\n",
       "      <td>287413.244562</td>\n",
       "      <td>31106.451817</td>\n",
       "      <td>18.845011</td>\n",
       "      <td>0.223421</td>\n",
       "      <td>90.507851</td>\n",
       "      <td>87.192262</td>\n",
       "      <td>1.887875</td>\n",
       "      <td>0.288209</td>\n",
       "    </tr>\n",
       "    <tr>\n",
       "      <th>min</th>\n",
       "      <td>244.000000</td>\n",
       "      <td>2.054543</td>\n",
       "      <td>-2.140206</td>\n",
       "      <td>0.001781</td>\n",
       "      <td>500.000000</td>\n",
       "      <td>428.033014</td>\n",
       "      <td>21.363123</td>\n",
       "      <td>0.000092</td>\n",
       "    </tr>\n",
       "    <tr>\n",
       "      <th>25%</th>\n",
       "      <td>245155.500000</td>\n",
       "      <td>39148.645696</td>\n",
       "      <td>6.154399</td>\n",
       "      <td>0.157192</td>\n",
       "      <td>600.000000</td>\n",
       "      <td>609.626986</td>\n",
       "      <td>24.292013</td>\n",
       "      <td>0.139439</td>\n",
       "    </tr>\n",
       "    <tr>\n",
       "      <th>50%</th>\n",
       "      <td>496893.500000</td>\n",
       "      <td>76926.365168</td>\n",
       "      <td>11.968306</td>\n",
       "      <td>0.273050</td>\n",
       "      <td>655.000000</td>\n",
       "      <td>669.379043</td>\n",
       "      <td>25.610196</td>\n",
       "      <td>0.337421</td>\n",
       "    </tr>\n",
       "    <tr>\n",
       "      <th>75%</th>\n",
       "      <td>745531.500000</td>\n",
       "      <td>91082.947495</td>\n",
       "      <td>32.258555</td>\n",
       "      <td>0.459951</td>\n",
       "      <td>727.000000</td>\n",
       "      <td>729.979109</td>\n",
       "      <td>27.060501</td>\n",
       "      <td>0.624833</td>\n",
       "    </tr>\n",
       "    <tr>\n",
       "      <th>max</th>\n",
       "      <td>999870.000000</td>\n",
       "      <td>150538.809704</td>\n",
       "      <td>81.759632</td>\n",
       "      <td>1.144357</td>\n",
       "      <td>849.000000</td>\n",
       "      <td>911.181969</td>\n",
       "      <td>30.131214</td>\n",
       "      <td>1.000000</td>\n",
       "    </tr>\n",
       "  </tbody>\n",
       "</table>\n",
       "</div>"
      ],
      "text/plain": [
       "         customer_id     est_income     hold_bal  pref_cust_prob   imp_cscore  \\\n",
       "count    9926.000000    9926.000000  9926.000000     9926.000000  9926.000000   \n",
       "mean   497043.859057   65870.077277    20.980726        0.329679   662.437236   \n",
       "std    287413.244562   31106.451817    18.845011        0.223421    90.507851   \n",
       "min       244.000000       2.054543    -2.140206        0.001781   500.000000   \n",
       "25%    245155.500000   39148.645696     6.154399        0.157192   600.000000   \n",
       "50%    496893.500000   76926.365168    11.968306        0.273050   655.000000   \n",
       "75%    745531.500000   91082.947495    32.258555        0.459951   727.000000   \n",
       "max    999870.000000  150538.809704    81.759632        1.144357   849.000000   \n",
       "\n",
       "         RiskScore  imp_crediteval   axio_score  \n",
       "count  9926.000000     9926.000000  9926.000000  \n",
       "mean    669.834437       25.688243     0.393086  \n",
       "std      87.192262        1.887875     0.288209  \n",
       "min     428.033014       21.363123     0.000092  \n",
       "25%     609.626986       24.292013     0.139439  \n",
       "50%     669.379043       25.610196     0.337421  \n",
       "75%     729.979109       27.060501     0.624833  \n",
       "max     911.181969       30.131214     1.000000  "
      ]
     },
     "execution_count": 16,
     "metadata": {},
     "output_type": "execute_result"
    }
   ],
   "source": [
    "credit_no_outliers.describe()"
   ]
  },
  {
   "cell_type": "code",
   "execution_count": 17,
   "metadata": {},
   "outputs": [],
   "source": [
    "credit_no_outliers = credit_no_outliers.loc[(credit_no_outliers['imp_cscore'] > imp_cscore_min) & (credit_no_outliers['imp_cscore'] < imp_cscore_max)]\n"
   ]
  },
  {
   "cell_type": "code",
   "execution_count": 18,
   "metadata": {},
   "outputs": [
    {
     "data": {
      "text/html": [
       "<div>\n",
       "<style scoped>\n",
       "    .dataframe tbody tr th:only-of-type {\n",
       "        vertical-align: middle;\n",
       "    }\n",
       "\n",
       "    .dataframe tbody tr th {\n",
       "        vertical-align: top;\n",
       "    }\n",
       "\n",
       "    .dataframe thead th {\n",
       "        text-align: right;\n",
       "    }\n",
       "</style>\n",
       "<table border=\"1\" class=\"dataframe\">\n",
       "  <thead>\n",
       "    <tr style=\"text-align: right;\">\n",
       "      <th></th>\n",
       "      <th>customer_id</th>\n",
       "      <th>est_income</th>\n",
       "      <th>hold_bal</th>\n",
       "      <th>pref_cust_prob</th>\n",
       "      <th>imp_cscore</th>\n",
       "      <th>RiskScore</th>\n",
       "      <th>imp_crediteval</th>\n",
       "      <th>axio_score</th>\n",
       "    </tr>\n",
       "  </thead>\n",
       "  <tbody>\n",
       "    <tr>\n",
       "      <th>count</th>\n",
       "      <td>9926.000000</td>\n",
       "      <td>9926.000000</td>\n",
       "      <td>9926.000000</td>\n",
       "      <td>9926.000000</td>\n",
       "      <td>9926.000000</td>\n",
       "      <td>9926.000000</td>\n",
       "      <td>9926.000000</td>\n",
       "      <td>9926.000000</td>\n",
       "    </tr>\n",
       "    <tr>\n",
       "      <th>mean</th>\n",
       "      <td>497043.859057</td>\n",
       "      <td>65870.077277</td>\n",
       "      <td>20.980726</td>\n",
       "      <td>0.329679</td>\n",
       "      <td>662.437236</td>\n",
       "      <td>669.834437</td>\n",
       "      <td>25.688243</td>\n",
       "      <td>0.393086</td>\n",
       "    </tr>\n",
       "    <tr>\n",
       "      <th>std</th>\n",
       "      <td>287413.244562</td>\n",
       "      <td>31106.451817</td>\n",
       "      <td>18.845011</td>\n",
       "      <td>0.223421</td>\n",
       "      <td>90.507851</td>\n",
       "      <td>87.192262</td>\n",
       "      <td>1.887875</td>\n",
       "      <td>0.288209</td>\n",
       "    </tr>\n",
       "    <tr>\n",
       "      <th>min</th>\n",
       "      <td>244.000000</td>\n",
       "      <td>2.054543</td>\n",
       "      <td>-2.140206</td>\n",
       "      <td>0.001781</td>\n",
       "      <td>500.000000</td>\n",
       "      <td>428.033014</td>\n",
       "      <td>21.363123</td>\n",
       "      <td>0.000092</td>\n",
       "    </tr>\n",
       "    <tr>\n",
       "      <th>25%</th>\n",
       "      <td>245155.500000</td>\n",
       "      <td>39148.645696</td>\n",
       "      <td>6.154399</td>\n",
       "      <td>0.157192</td>\n",
       "      <td>600.000000</td>\n",
       "      <td>609.626986</td>\n",
       "      <td>24.292013</td>\n",
       "      <td>0.139439</td>\n",
       "    </tr>\n",
       "    <tr>\n",
       "      <th>50%</th>\n",
       "      <td>496893.500000</td>\n",
       "      <td>76926.365168</td>\n",
       "      <td>11.968306</td>\n",
       "      <td>0.273050</td>\n",
       "      <td>655.000000</td>\n",
       "      <td>669.379043</td>\n",
       "      <td>25.610196</td>\n",
       "      <td>0.337421</td>\n",
       "    </tr>\n",
       "    <tr>\n",
       "      <th>75%</th>\n",
       "      <td>745531.500000</td>\n",
       "      <td>91082.947495</td>\n",
       "      <td>32.258555</td>\n",
       "      <td>0.459951</td>\n",
       "      <td>727.000000</td>\n",
       "      <td>729.979109</td>\n",
       "      <td>27.060501</td>\n",
       "      <td>0.624833</td>\n",
       "    </tr>\n",
       "    <tr>\n",
       "      <th>max</th>\n",
       "      <td>999870.000000</td>\n",
       "      <td>150538.809704</td>\n",
       "      <td>81.759632</td>\n",
       "      <td>1.144357</td>\n",
       "      <td>849.000000</td>\n",
       "      <td>911.181969</td>\n",
       "      <td>30.131214</td>\n",
       "      <td>1.000000</td>\n",
       "    </tr>\n",
       "  </tbody>\n",
       "</table>\n",
       "</div>"
      ],
      "text/plain": [
       "         customer_id     est_income     hold_bal  pref_cust_prob   imp_cscore  \\\n",
       "count    9926.000000    9926.000000  9926.000000     9926.000000  9926.000000   \n",
       "mean   497043.859057   65870.077277    20.980726        0.329679   662.437236   \n",
       "std    287413.244562   31106.451817    18.845011        0.223421    90.507851   \n",
       "min       244.000000       2.054543    -2.140206        0.001781   500.000000   \n",
       "25%    245155.500000   39148.645696     6.154399        0.157192   600.000000   \n",
       "50%    496893.500000   76926.365168    11.968306        0.273050   655.000000   \n",
       "75%    745531.500000   91082.947495    32.258555        0.459951   727.000000   \n",
       "max    999870.000000  150538.809704    81.759632        1.144357   849.000000   \n",
       "\n",
       "         RiskScore  imp_crediteval   axio_score  \n",
       "count  9926.000000     9926.000000  9926.000000  \n",
       "mean    669.834437       25.688243     0.393086  \n",
       "std      87.192262        1.887875     0.288209  \n",
       "min     428.033014       21.363123     0.000092  \n",
       "25%     609.626986       24.292013     0.139439  \n",
       "50%     669.379043       25.610196     0.337421  \n",
       "75%     729.979109       27.060501     0.624833  \n",
       "max     911.181969       30.131214     1.000000  "
      ]
     },
     "execution_count": 18,
     "metadata": {},
     "output_type": "execute_result"
    }
   ],
   "source": [
    "credit_no_outliers.describe()"
   ]
  },
  {
   "cell_type": "code",
   "execution_count": 19,
   "metadata": {},
   "outputs": [],
   "source": [
    "credit_no_outliers = credit_no_outliers.loc[(crdit_raw['pref_cust_prob'] > pref_cust_prob_min) & (credit_no_outliers['pref_cust_prob'] < pref_cust_prob_max)]\n"
   ]
  },
  {
   "cell_type": "code",
   "execution_count": 20,
   "metadata": {},
   "outputs": [
    {
     "data": {
      "text/html": [
       "<div>\n",
       "<style scoped>\n",
       "    .dataframe tbody tr th:only-of-type {\n",
       "        vertical-align: middle;\n",
       "    }\n",
       "\n",
       "    .dataframe tbody tr th {\n",
       "        vertical-align: top;\n",
       "    }\n",
       "\n",
       "    .dataframe thead th {\n",
       "        text-align: right;\n",
       "    }\n",
       "</style>\n",
       "<table border=\"1\" class=\"dataframe\">\n",
       "  <thead>\n",
       "    <tr style=\"text-align: right;\">\n",
       "      <th></th>\n",
       "      <th>customer_id</th>\n",
       "      <th>est_income</th>\n",
       "      <th>hold_bal</th>\n",
       "      <th>pref_cust_prob</th>\n",
       "      <th>imp_cscore</th>\n",
       "      <th>RiskScore</th>\n",
       "      <th>imp_crediteval</th>\n",
       "      <th>axio_score</th>\n",
       "    </tr>\n",
       "  </thead>\n",
       "  <tbody>\n",
       "    <tr>\n",
       "      <th>count</th>\n",
       "      <td>9784.000000</td>\n",
       "      <td>9784.000000</td>\n",
       "      <td>9784.000000</td>\n",
       "      <td>9784.000000</td>\n",
       "      <td>9784.000000</td>\n",
       "      <td>9784.000000</td>\n",
       "      <td>9784.000000</td>\n",
       "      <td>9784.000000</td>\n",
       "    </tr>\n",
       "    <tr>\n",
       "      <th>mean</th>\n",
       "      <td>497751.719338</td>\n",
       "      <td>65885.609009</td>\n",
       "      <td>20.978336</td>\n",
       "      <td>0.320319</td>\n",
       "      <td>662.473835</td>\n",
       "      <td>669.869725</td>\n",
       "      <td>25.689637</td>\n",
       "      <td>0.393484</td>\n",
       "    </tr>\n",
       "    <tr>\n",
       "      <th>std</th>\n",
       "      <td>287420.840698</td>\n",
       "      <td>31106.356834</td>\n",
       "      <td>18.848666</td>\n",
       "      <td>0.210902</td>\n",
       "      <td>90.561729</td>\n",
       "      <td>87.116198</td>\n",
       "      <td>1.889197</td>\n",
       "      <td>0.288437</td>\n",
       "    </tr>\n",
       "    <tr>\n",
       "      <th>min</th>\n",
       "      <td>244.000000</td>\n",
       "      <td>2.054543</td>\n",
       "      <td>-2.140206</td>\n",
       "      <td>0.001781</td>\n",
       "      <td>500.000000</td>\n",
       "      <td>428.033014</td>\n",
       "      <td>21.363123</td>\n",
       "      <td>0.000092</td>\n",
       "    </tr>\n",
       "    <tr>\n",
       "      <th>25%</th>\n",
       "      <td>245930.250000</td>\n",
       "      <td>39181.333217</td>\n",
       "      <td>6.150577</td>\n",
       "      <td>0.155504</td>\n",
       "      <td>600.000000</td>\n",
       "      <td>609.627786</td>\n",
       "      <td>24.294207</td>\n",
       "      <td>0.139600</td>\n",
       "    </tr>\n",
       "    <tr>\n",
       "      <th>50%</th>\n",
       "      <td>497614.000000</td>\n",
       "      <td>76955.172160</td>\n",
       "      <td>11.922362</td>\n",
       "      <td>0.268817</td>\n",
       "      <td>655.000000</td>\n",
       "      <td>669.493442</td>\n",
       "      <td>25.611903</td>\n",
       "      <td>0.337841</td>\n",
       "    </tr>\n",
       "    <tr>\n",
       "      <th>75%</th>\n",
       "      <td>745984.500000</td>\n",
       "      <td>91137.966126</td>\n",
       "      <td>32.287644</td>\n",
       "      <td>0.449736</td>\n",
       "      <td>727.000000</td>\n",
       "      <td>729.993009</td>\n",
       "      <td>27.064328</td>\n",
       "      <td>0.625474</td>\n",
       "    </tr>\n",
       "    <tr>\n",
       "      <th>max</th>\n",
       "      <td>999870.000000</td>\n",
       "      <td>150538.809704</td>\n",
       "      <td>81.759632</td>\n",
       "      <td>0.914256</td>\n",
       "      <td>849.000000</td>\n",
       "      <td>911.181969</td>\n",
       "      <td>30.131214</td>\n",
       "      <td>1.000000</td>\n",
       "    </tr>\n",
       "  </tbody>\n",
       "</table>\n",
       "</div>"
      ],
      "text/plain": [
       "         customer_id     est_income     hold_bal  pref_cust_prob   imp_cscore  \\\n",
       "count    9784.000000    9784.000000  9784.000000     9784.000000  9784.000000   \n",
       "mean   497751.719338   65885.609009    20.978336        0.320319   662.473835   \n",
       "std    287420.840698   31106.356834    18.848666        0.210902    90.561729   \n",
       "min       244.000000       2.054543    -2.140206        0.001781   500.000000   \n",
       "25%    245930.250000   39181.333217     6.150577        0.155504   600.000000   \n",
       "50%    497614.000000   76955.172160    11.922362        0.268817   655.000000   \n",
       "75%    745984.500000   91137.966126    32.287644        0.449736   727.000000   \n",
       "max    999870.000000  150538.809704    81.759632        0.914256   849.000000   \n",
       "\n",
       "         RiskScore  imp_crediteval   axio_score  \n",
       "count  9784.000000     9784.000000  9784.000000  \n",
       "mean    669.869725       25.689637     0.393484  \n",
       "std      87.116198        1.889197     0.288437  \n",
       "min     428.033014       21.363123     0.000092  \n",
       "25%     609.627786       24.294207     0.139600  \n",
       "50%     669.493442       25.611903     0.337841  \n",
       "75%     729.993009       27.064328     0.625474  \n",
       "max     911.181969       30.131214     1.000000  "
      ]
     },
     "execution_count": 20,
     "metadata": {},
     "output_type": "execute_result"
    }
   ],
   "source": [
    "credit_no_outliers.describe()"
   ]
  },
  {
   "cell_type": "markdown",
   "metadata": {},
   "source": [
    "### Removed roughly 280 outliers from the dataset"
   ]
  },
  {
   "cell_type": "code",
   "execution_count": 21,
   "metadata": {},
   "outputs": [
    {
     "data": {
      "text/html": [
       "<div>\n",
       "<style scoped>\n",
       "    .dataframe tbody tr th:only-of-type {\n",
       "        vertical-align: middle;\n",
       "    }\n",
       "\n",
       "    .dataframe tbody tr th {\n",
       "        vertical-align: top;\n",
       "    }\n",
       "\n",
       "    .dataframe thead th {\n",
       "        text-align: right;\n",
       "    }\n",
       "</style>\n",
       "<table border=\"1\" class=\"dataframe\">\n",
       "  <thead>\n",
       "    <tr style=\"text-align: right;\">\n",
       "      <th></th>\n",
       "      <th>customer_id</th>\n",
       "      <th>demographic_slice</th>\n",
       "      <th>country_reg</th>\n",
       "      <th>ad_exp</th>\n",
       "      <th>est_income</th>\n",
       "      <th>hold_bal</th>\n",
       "      <th>pref_cust_prob</th>\n",
       "      <th>imp_cscore</th>\n",
       "      <th>RiskScore</th>\n",
       "      <th>imp_crediteval</th>\n",
       "      <th>axio_score</th>\n",
       "      <th>card_offer</th>\n",
       "    </tr>\n",
       "  </thead>\n",
       "  <tbody>\n",
       "    <tr>\n",
       "      <th>0</th>\n",
       "      <td>713782</td>\n",
       "      <td>AX03efs</td>\n",
       "      <td>W</td>\n",
       "      <td>N</td>\n",
       "      <td>33407.901749</td>\n",
       "      <td>3.000000</td>\n",
       "      <td>0.531112</td>\n",
       "      <td>619</td>\n",
       "      <td>503.249027</td>\n",
       "      <td>23.977827</td>\n",
       "      <td>0.137289</td>\n",
       "      <td>False</td>\n",
       "    </tr>\n",
       "    <tr>\n",
       "      <th>1</th>\n",
       "      <td>515901</td>\n",
       "      <td>AX03efs</td>\n",
       "      <td>E</td>\n",
       "      <td>N</td>\n",
       "      <td>19927.533533</td>\n",
       "      <td>20.257927</td>\n",
       "      <td>0.297439</td>\n",
       "      <td>527</td>\n",
       "      <td>820.108146</td>\n",
       "      <td>22.986398</td>\n",
       "      <td>0.052264</td>\n",
       "      <td>False</td>\n",
       "    </tr>\n",
       "    <tr>\n",
       "      <th>2</th>\n",
       "      <td>95166</td>\n",
       "      <td>AX03efs</td>\n",
       "      <td>W</td>\n",
       "      <td>Y</td>\n",
       "      <td>51222.470997</td>\n",
       "      <td>4.000000</td>\n",
       "      <td>0.018463</td>\n",
       "      <td>606</td>\n",
       "      <td>586.605795</td>\n",
       "      <td>24.939219</td>\n",
       "      <td>0.452035</td>\n",
       "      <td>False</td>\n",
       "    </tr>\n",
       "    <tr>\n",
       "      <th>3</th>\n",
       "      <td>425557</td>\n",
       "      <td>AX03efs</td>\n",
       "      <td>E</td>\n",
       "      <td>Y</td>\n",
       "      <td>67211.587467</td>\n",
       "      <td>18.653631</td>\n",
       "      <td>0.089344</td>\n",
       "      <td>585</td>\n",
       "      <td>634.701982</td>\n",
       "      <td>24.841147</td>\n",
       "      <td>0.564619</td>\n",
       "      <td>False</td>\n",
       "    </tr>\n",
       "    <tr>\n",
       "      <th>4</th>\n",
       "      <td>624581</td>\n",
       "      <td>AX03efs</td>\n",
       "      <td>W</td>\n",
       "      <td>N</td>\n",
       "      <td>20093.342158</td>\n",
       "      <td>4.000000</td>\n",
       "      <td>0.094948</td>\n",
       "      <td>567</td>\n",
       "      <td>631.949979</td>\n",
       "      <td>24.679363</td>\n",
       "      <td>0.917304</td>\n",
       "      <td>False</td>\n",
       "    </tr>\n",
       "  </tbody>\n",
       "</table>\n",
       "</div>"
      ],
      "text/plain": [
       "   customer_id demographic_slice country_reg ad_exp    est_income   hold_bal  \\\n",
       "0       713782           AX03efs           W      N  33407.901749   3.000000   \n",
       "1       515901           AX03efs           E      N  19927.533533  20.257927   \n",
       "2        95166           AX03efs           W      Y  51222.470997   4.000000   \n",
       "3       425557           AX03efs           E      Y  67211.587467  18.653631   \n",
       "4       624581           AX03efs           W      N  20093.342158   4.000000   \n",
       "\n",
       "   pref_cust_prob  imp_cscore   RiskScore  imp_crediteval  axio_score  \\\n",
       "0        0.531112         619  503.249027       23.977827    0.137289   \n",
       "1        0.297439         527  820.108146       22.986398    0.052264   \n",
       "2        0.018463         606  586.605795       24.939219    0.452035   \n",
       "3        0.089344         585  634.701982       24.841147    0.564619   \n",
       "4        0.094948         567  631.949979       24.679363    0.917304   \n",
       "\n",
       "   card_offer  \n",
       "0       False  \n",
       "1       False  \n",
       "2       False  \n",
       "3       False  \n",
       "4       False  "
      ]
     },
     "execution_count": 21,
     "metadata": {},
     "output_type": "execute_result"
    }
   ],
   "source": [
    "credit_no_outliers.head()"
   ]
  },
  {
   "cell_type": "markdown",
   "metadata": {},
   "source": [
    "Now we have 3 columns with string  values., demographic_slice, country_reg, ad_exp.\n",
    "We will drop columns which are irrelevant or convert them into numerical discrete values."
   ]
  },
  {
   "cell_type": "markdown",
   "metadata": {},
   "source": [
    "Checking for dsitinct demographic_slice"
   ]
  },
  {
   "cell_type": "code",
   "execution_count": 22,
   "metadata": {},
   "outputs": [
    {
     "data": {
      "text/plain": [
       "array(['AX03efs', 'BWEsk45', 'CARDIF2', 'DERS3w5'], dtype=object)"
      ]
     },
     "execution_count": 22,
     "metadata": {},
     "output_type": "execute_result"
    }
   ],
   "source": [
    "credit_no_outliers.demographic_slice.unique()"
   ]
  },
  {
   "cell_type": "code",
   "execution_count": 23,
   "metadata": {},
   "outputs": [
    {
     "data": {
      "text/plain": [
       "array(['W', 'E'], dtype=object)"
      ]
     },
     "execution_count": 23,
     "metadata": {},
     "output_type": "execute_result"
    }
   ],
   "source": [
    "credit_no_outliers.country_reg.unique()"
   ]
  },
  {
   "cell_type": "code",
   "execution_count": 24,
   "metadata": {},
   "outputs": [
    {
     "data": {
      "text/html": [
       "<div>\n",
       "<style scoped>\n",
       "    .dataframe tbody tr th:only-of-type {\n",
       "        vertical-align: middle;\n",
       "    }\n",
       "\n",
       "    .dataframe tbody tr th {\n",
       "        vertical-align: top;\n",
       "    }\n",
       "\n",
       "    .dataframe thead th {\n",
       "        text-align: right;\n",
       "    }\n",
       "</style>\n",
       "<table border=\"1\" class=\"dataframe\">\n",
       "  <thead>\n",
       "    <tr style=\"text-align: right;\">\n",
       "      <th></th>\n",
       "      <th>customer_id</th>\n",
       "      <th>demographic_slice</th>\n",
       "      <th>country_reg</th>\n",
       "      <th>ad_exp</th>\n",
       "      <th>est_income</th>\n",
       "      <th>hold_bal</th>\n",
       "      <th>pref_cust_prob</th>\n",
       "      <th>imp_cscore</th>\n",
       "      <th>RiskScore</th>\n",
       "      <th>imp_crediteval</th>\n",
       "      <th>axio_score</th>\n",
       "      <th>card_offer</th>\n",
       "    </tr>\n",
       "  </thead>\n",
       "  <tbody>\n",
       "    <tr>\n",
       "      <th>0</th>\n",
       "      <td>713782</td>\n",
       "      <td>AX03efs</td>\n",
       "      <td>W</td>\n",
       "      <td>0</td>\n",
       "      <td>33407.901749</td>\n",
       "      <td>3.000000</td>\n",
       "      <td>0.531112</td>\n",
       "      <td>619</td>\n",
       "      <td>503.249027</td>\n",
       "      <td>23.977827</td>\n",
       "      <td>0.137289</td>\n",
       "      <td>False</td>\n",
       "    </tr>\n",
       "    <tr>\n",
       "      <th>1</th>\n",
       "      <td>515901</td>\n",
       "      <td>AX03efs</td>\n",
       "      <td>E</td>\n",
       "      <td>0</td>\n",
       "      <td>19927.533533</td>\n",
       "      <td>20.257927</td>\n",
       "      <td>0.297439</td>\n",
       "      <td>527</td>\n",
       "      <td>820.108146</td>\n",
       "      <td>22.986398</td>\n",
       "      <td>0.052264</td>\n",
       "      <td>False</td>\n",
       "    </tr>\n",
       "    <tr>\n",
       "      <th>2</th>\n",
       "      <td>95166</td>\n",
       "      <td>AX03efs</td>\n",
       "      <td>W</td>\n",
       "      <td>1</td>\n",
       "      <td>51222.470997</td>\n",
       "      <td>4.000000</td>\n",
       "      <td>0.018463</td>\n",
       "      <td>606</td>\n",
       "      <td>586.605795</td>\n",
       "      <td>24.939219</td>\n",
       "      <td>0.452035</td>\n",
       "      <td>False</td>\n",
       "    </tr>\n",
       "    <tr>\n",
       "      <th>3</th>\n",
       "      <td>425557</td>\n",
       "      <td>AX03efs</td>\n",
       "      <td>E</td>\n",
       "      <td>1</td>\n",
       "      <td>67211.587467</td>\n",
       "      <td>18.653631</td>\n",
       "      <td>0.089344</td>\n",
       "      <td>585</td>\n",
       "      <td>634.701982</td>\n",
       "      <td>24.841147</td>\n",
       "      <td>0.564619</td>\n",
       "      <td>False</td>\n",
       "    </tr>\n",
       "    <tr>\n",
       "      <th>4</th>\n",
       "      <td>624581</td>\n",
       "      <td>AX03efs</td>\n",
       "      <td>W</td>\n",
       "      <td>0</td>\n",
       "      <td>20093.342158</td>\n",
       "      <td>4.000000</td>\n",
       "      <td>0.094948</td>\n",
       "      <td>567</td>\n",
       "      <td>631.949979</td>\n",
       "      <td>24.679363</td>\n",
       "      <td>0.917304</td>\n",
       "      <td>False</td>\n",
       "    </tr>\n",
       "  </tbody>\n",
       "</table>\n",
       "</div>"
      ],
      "text/plain": [
       "   customer_id demographic_slice country_reg  ad_exp    est_income   hold_bal  \\\n",
       "0       713782           AX03efs           W       0  33407.901749   3.000000   \n",
       "1       515901           AX03efs           E       0  19927.533533  20.257927   \n",
       "2        95166           AX03efs           W       1  51222.470997   4.000000   \n",
       "3       425557           AX03efs           E       1  67211.587467  18.653631   \n",
       "4       624581           AX03efs           W       0  20093.342158   4.000000   \n",
       "\n",
       "   pref_cust_prob  imp_cscore   RiskScore  imp_crediteval  axio_score  \\\n",
       "0        0.531112         619  503.249027       23.977827    0.137289   \n",
       "1        0.297439         527  820.108146       22.986398    0.052264   \n",
       "2        0.018463         606  586.605795       24.939219    0.452035   \n",
       "3        0.089344         585  634.701982       24.841147    0.564619   \n",
       "4        0.094948         567  631.949979       24.679363    0.917304   \n",
       "\n",
       "   card_offer  \n",
       "0       False  \n",
       "1       False  \n",
       "2       False  \n",
       "3       False  \n",
       "4       False  "
      ]
     },
     "execution_count": 24,
     "metadata": {},
     "output_type": "execute_result"
    }
   ],
   "source": [
    "credit_no_outliers.ad_exp.unique()\n",
    "credit_no_outliers['ad_exp'] = credit_no_outliers['ad_exp'].map({'Y': 1, 'N': 0})\n",
    "credit_no_outliers.head()"
   ]
  },
  {
   "cell_type": "code",
   "execution_count": 25,
   "metadata": {},
   "outputs": [
    {
     "data": {
      "text/html": [
       "<div>\n",
       "<style scoped>\n",
       "    .dataframe tbody tr th:only-of-type {\n",
       "        vertical-align: middle;\n",
       "    }\n",
       "\n",
       "    .dataframe tbody tr th {\n",
       "        vertical-align: top;\n",
       "    }\n",
       "\n",
       "    .dataframe thead th {\n",
       "        text-align: right;\n",
       "    }\n",
       "</style>\n",
       "<table border=\"1\" class=\"dataframe\">\n",
       "  <thead>\n",
       "    <tr style=\"text-align: right;\">\n",
       "      <th></th>\n",
       "      <th>customer_id</th>\n",
       "      <th>ad_exp</th>\n",
       "      <th>est_income</th>\n",
       "      <th>hold_bal</th>\n",
       "      <th>pref_cust_prob</th>\n",
       "      <th>imp_cscore</th>\n",
       "      <th>RiskScore</th>\n",
       "      <th>imp_crediteval</th>\n",
       "      <th>axio_score</th>\n",
       "      <th>card_offer</th>\n",
       "      <th>demographic_slice_encoded</th>\n",
       "      <th>country_reg_encoded</th>\n",
       "    </tr>\n",
       "  </thead>\n",
       "  <tbody>\n",
       "    <tr>\n",
       "      <th>0</th>\n",
       "      <td>713782</td>\n",
       "      <td>0</td>\n",
       "      <td>33407.901749</td>\n",
       "      <td>3.000000</td>\n",
       "      <td>0.531112</td>\n",
       "      <td>619</td>\n",
       "      <td>503.249027</td>\n",
       "      <td>23.977827</td>\n",
       "      <td>0.137289</td>\n",
       "      <td>False</td>\n",
       "      <td>0</td>\n",
       "      <td>1</td>\n",
       "    </tr>\n",
       "    <tr>\n",
       "      <th>1</th>\n",
       "      <td>515901</td>\n",
       "      <td>0</td>\n",
       "      <td>19927.533533</td>\n",
       "      <td>20.257927</td>\n",
       "      <td>0.297439</td>\n",
       "      <td>527</td>\n",
       "      <td>820.108146</td>\n",
       "      <td>22.986398</td>\n",
       "      <td>0.052264</td>\n",
       "      <td>False</td>\n",
       "      <td>0</td>\n",
       "      <td>0</td>\n",
       "    </tr>\n",
       "    <tr>\n",
       "      <th>2</th>\n",
       "      <td>95166</td>\n",
       "      <td>1</td>\n",
       "      <td>51222.470997</td>\n",
       "      <td>4.000000</td>\n",
       "      <td>0.018463</td>\n",
       "      <td>606</td>\n",
       "      <td>586.605795</td>\n",
       "      <td>24.939219</td>\n",
       "      <td>0.452035</td>\n",
       "      <td>False</td>\n",
       "      <td>0</td>\n",
       "      <td>1</td>\n",
       "    </tr>\n",
       "    <tr>\n",
       "      <th>3</th>\n",
       "      <td>425557</td>\n",
       "      <td>1</td>\n",
       "      <td>67211.587467</td>\n",
       "      <td>18.653631</td>\n",
       "      <td>0.089344</td>\n",
       "      <td>585</td>\n",
       "      <td>634.701982</td>\n",
       "      <td>24.841147</td>\n",
       "      <td>0.564619</td>\n",
       "      <td>False</td>\n",
       "      <td>0</td>\n",
       "      <td>0</td>\n",
       "    </tr>\n",
       "    <tr>\n",
       "      <th>4</th>\n",
       "      <td>624581</td>\n",
       "      <td>0</td>\n",
       "      <td>20093.342158</td>\n",
       "      <td>4.000000</td>\n",
       "      <td>0.094948</td>\n",
       "      <td>567</td>\n",
       "      <td>631.949979</td>\n",
       "      <td>24.679363</td>\n",
       "      <td>0.917304</td>\n",
       "      <td>False</td>\n",
       "      <td>0</td>\n",
       "      <td>1</td>\n",
       "    </tr>\n",
       "  </tbody>\n",
       "</table>\n",
       "</div>"
      ],
      "text/plain": [
       "   customer_id  ad_exp    est_income   hold_bal  pref_cust_prob  imp_cscore  \\\n",
       "0       713782       0  33407.901749   3.000000        0.531112         619   \n",
       "1       515901       0  19927.533533  20.257927        0.297439         527   \n",
       "2        95166       1  51222.470997   4.000000        0.018463         606   \n",
       "3       425557       1  67211.587467  18.653631        0.089344         585   \n",
       "4       624581       0  20093.342158   4.000000        0.094948         567   \n",
       "\n",
       "    RiskScore  imp_crediteval  axio_score  card_offer  \\\n",
       "0  503.249027       23.977827    0.137289       False   \n",
       "1  820.108146       22.986398    0.052264       False   \n",
       "2  586.605795       24.939219    0.452035       False   \n",
       "3  634.701982       24.841147    0.564619       False   \n",
       "4  631.949979       24.679363    0.917304       False   \n",
       "\n",
       "   demographic_slice_encoded  country_reg_encoded  \n",
       "0                          0                    1  \n",
       "1                          0                    0  \n",
       "2                          0                    1  \n",
       "3                          0                    0  \n",
       "4                          0                    1  "
      ]
     },
     "execution_count": 25,
     "metadata": {},
     "output_type": "execute_result"
    }
   ],
   "source": [
    "credit_sklearn = credit_no_outliers.copy()\n",
    "lb_make = LabelEncoder()\n",
    "credit_sklearn['demographic_slice_encoded'] = lb_make.fit_transform(credit_no_outliers['demographic_slice'])\n",
    "credit_sklearn['country_reg_encoded'] = lb_make.fit_transform(credit_no_outliers['country_reg'])\n",
    "credit_sklearn=credit_sklearn.drop(['demographic_slice', 'country_reg'], axis=1)\n",
    "credit_sklearn.head()"
   ]
  },
  {
   "cell_type": "markdown",
   "metadata": {},
   "source": [
    "### Dropped the string column after encoding them to numerical values."
   ]
  },
  {
   "cell_type": "markdown",
   "metadata": {},
   "source": [
    "### Data preprocessing complete. Now we split the data into training and testing data and run various classifer algorithm to get the best model"
   ]
  },
  {
   "cell_type": "code",
   "execution_count": 26,
   "metadata": {},
   "outputs": [],
   "source": [
    "X=credit_sklearn.drop(['card_offer'],axis=1)\n",
    "y=credit_sklearn['card_offer']\n",
    "X_train, X_test, y_train, y_test = train_test_split(X, y, test_size=0.33, random_state=42)"
   ]
  },
  {
   "cell_type": "code",
   "execution_count": 27,
   "metadata": {},
   "outputs": [
    {
     "name": "stdout",
     "output_type": "stream",
     "text": [
      "==============================\n",
      "KNeighborsClassifier\n",
      "****Results****\n",
      "Accuracy: 82.0378%\n",
      "Log Loss: 2.775744407843222\n",
      "==============================\n",
      "SVC\n",
      "****Results****\n",
      "Accuracy: 86.0948%\n",
      "Log Loss: 0.4033340696906456\n",
      "==============================\n",
      "DecisionTreeClassifier\n",
      "****Results****\n",
      "Accuracy: 96.5934%\n",
      "Log Loss: 1.176607433707085\n",
      "==============================\n",
      "RandomForestClassifier\n",
      "****Results****\n",
      "Accuracy: 97.0889%\n",
      "Log Loss: 0.11013802545089481\n",
      "==============================\n",
      "AdaBoostClassifier\n",
      "****Results****\n",
      "Accuracy: 98.4825%\n",
      "Log Loss: 0.5510582747398198\n",
      "==============================\n",
      "GradientBoostingClassifier\n",
      "****Results****\n",
      "Accuracy: 98.1418%\n",
      "Log Loss: 0.055039685247836506\n",
      "==============================\n",
      "GaussianNB\n",
      "****Results****\n",
      "Accuracy: 86.0948%\n",
      "Log Loss: 0.36517707423865137\n",
      "==============================\n",
      "LinearDiscriminantAnalysis\n",
      "****Results****\n",
      "Accuracy: 95.2307%\n",
      "Log Loss: 0.11363859589961241\n",
      "==============================\n",
      "QuadraticDiscriminantAnalysis\n",
      "****Results****\n",
      "Accuracy: 96.1288%\n",
      "Log Loss: 0.08619483375426466\n",
      "==============================\n"
     ]
    }
   ],
   "source": [
    "classifiers = [\n",
    "    KNeighborsClassifier(3),\n",
    "    SVC(kernel=\"rbf\", C=0.025, probability=True),\n",
    "    DecisionTreeClassifier(),\n",
    "    RandomForestClassifier(),\n",
    "    AdaBoostClassifier(),\n",
    "    GradientBoostingClassifier(),\n",
    "    GaussianNB(),\n",
    "    LinearDiscriminantAnalysis(),\n",
    "    QuadraticDiscriminantAnalysis()]\n",
    "\n",
    "# Logging for Visual Comparison\n",
    "log_cols=[\"Classifier\", \"Accuracy\", \"Log Loss\"]\n",
    "log = pd.DataFrame(columns=log_cols)\n",
    "\n",
    "for clf in classifiers:\n",
    "    clf.fit(X_train, y_train)\n",
    "    name = clf.__class__.__name__\n",
    "    \n",
    "    print(\"=\"*30)\n",
    "    print(name)\n",
    "    \n",
    "    print('****Results****')\n",
    "    train_predictions = clf.predict(X_test)\n",
    "    acc = accuracy_score(y_test, train_predictions)\n",
    "    print(\"Accuracy: {:.4%}\".format(acc))\n",
    "    \n",
    "    train_predictions = clf.predict_proba(X_test)\n",
    "    ll = log_loss(y_test, train_predictions)\n",
    "    print(\"Log Loss: {}\".format(ll))\n",
    "    \n",
    "    log_entry = pd.DataFrame([[name, acc*100, ll]], columns=log_cols)\n",
    "    log = log.append(log_entry)\n",
    "    \n",
    "print(\"=\"*30)"
   ]
  },
  {
   "cell_type": "markdown",
   "metadata": {},
   "source": [
    "## We have a winner here with AdaBoost having the highest accuracy and lowest Loss. So we will use that model to predict the future details. \n",
    "## Before doing that we need to apply each and every transformation on our predication data"
   ]
  },
  {
   "cell_type": "code",
   "execution_count": 28,
   "metadata": {},
   "outputs": [],
   "source": [
    "pred = pd.read_csv('test.csv')"
   ]
  },
  {
   "cell_type": "code",
   "execution_count": 29,
   "metadata": {},
   "outputs": [
    {
     "data": {
      "text/html": [
       "<div>\n",
       "<style scoped>\n",
       "    .dataframe tbody tr th:only-of-type {\n",
       "        vertical-align: middle;\n",
       "    }\n",
       "\n",
       "    .dataframe tbody tr th {\n",
       "        vertical-align: top;\n",
       "    }\n",
       "\n",
       "    .dataframe thead th {\n",
       "        text-align: right;\n",
       "    }\n",
       "</style>\n",
       "<table border=\"1\" class=\"dataframe\">\n",
       "  <thead>\n",
       "    <tr style=\"text-align: right;\">\n",
       "      <th></th>\n",
       "      <th>customer_id</th>\n",
       "      <th>demographic_slice</th>\n",
       "      <th>country_reg</th>\n",
       "      <th>ad_exp</th>\n",
       "      <th>est_income</th>\n",
       "      <th>hold_bal</th>\n",
       "      <th>pref_cust_prob</th>\n",
       "      <th>imp_cscore</th>\n",
       "      <th>RiskScore</th>\n",
       "      <th>imp_crediteval</th>\n",
       "      <th>axio_score</th>\n",
       "      <th>card_offer</th>\n",
       "    </tr>\n",
       "  </thead>\n",
       "  <tbody>\n",
       "    <tr>\n",
       "      <th>0</th>\n",
       "      <td>596723</td>\n",
       "      <td>AX03efs</td>\n",
       "      <td>W</td>\n",
       "      <td>N</td>\n",
       "      <td>26323.092380</td>\n",
       "      <td>3.000000</td>\n",
       "      <td>0.461364</td>\n",
       "      <td>603</td>\n",
       "      <td>505.509062</td>\n",
       "      <td>23.806688</td>\n",
       "      <td>0.351222</td>\n",
       "      <td>NaN</td>\n",
       "    </tr>\n",
       "    <tr>\n",
       "      <th>1</th>\n",
       "      <td>841834</td>\n",
       "      <td>AX03efs</td>\n",
       "      <td>E</td>\n",
       "      <td>Y</td>\n",
       "      <td>67374.621650</td>\n",
       "      <td>17.861095</td>\n",
       "      <td>0.473517</td>\n",
       "      <td>650</td>\n",
       "      <td>466.158076</td>\n",
       "      <td>26.068803</td>\n",
       "      <td>0.080106</td>\n",
       "      <td>NaN</td>\n",
       "    </tr>\n",
       "    <tr>\n",
       "      <th>2</th>\n",
       "      <td>402401</td>\n",
       "      <td>AX03efs</td>\n",
       "      <td>E</td>\n",
       "      <td>N</td>\n",
       "      <td>1728.369713</td>\n",
       "      <td>21.604489</td>\n",
       "      <td>0.486220</td>\n",
       "      <td>606</td>\n",
       "      <td>603.346280</td>\n",
       "      <td>23.628955</td>\n",
       "      <td>0.208180</td>\n",
       "      <td>NaN</td>\n",
       "    </tr>\n",
       "    <tr>\n",
       "      <th>3</th>\n",
       "      <td>734431</td>\n",
       "      <td>AX03efs</td>\n",
       "      <td>E</td>\n",
       "      <td>Y</td>\n",
       "      <td>15814.210260</td>\n",
       "      <td>22.058403</td>\n",
       "      <td>0.462249</td>\n",
       "      <td>530</td>\n",
       "      <td>747.158221</td>\n",
       "      <td>22.533957</td>\n",
       "      <td>0.080122</td>\n",
       "      <td>NaN</td>\n",
       "    </tr>\n",
       "    <tr>\n",
       "      <th>4</th>\n",
       "      <td>739547</td>\n",
       "      <td>AX03efs</td>\n",
       "      <td>W</td>\n",
       "      <td>Y</td>\n",
       "      <td>45233.588190</td>\n",
       "      <td>1.000000</td>\n",
       "      <td>0.541660</td>\n",
       "      <td>640</td>\n",
       "      <td>704.781194</td>\n",
       "      <td>24.298782</td>\n",
       "      <td>0.667270</td>\n",
       "      <td>NaN</td>\n",
       "    </tr>\n",
       "  </tbody>\n",
       "</table>\n",
       "</div>"
      ],
      "text/plain": [
       "   customer_id demographic_slice country_reg ad_exp    est_income   hold_bal  \\\n",
       "0       596723           AX03efs           W      N  26323.092380   3.000000   \n",
       "1       841834           AX03efs           E      Y  67374.621650  17.861095   \n",
       "2       402401           AX03efs           E      N   1728.369713  21.604489   \n",
       "3       734431           AX03efs           E      Y  15814.210260  22.058403   \n",
       "4       739547           AX03efs           W      Y  45233.588190   1.000000   \n",
       "\n",
       "   pref_cust_prob  imp_cscore   RiskScore  imp_crediteval  axio_score  \\\n",
       "0        0.461364         603  505.509062       23.806688    0.351222   \n",
       "1        0.473517         650  466.158076       26.068803    0.080106   \n",
       "2        0.486220         606  603.346280       23.628955    0.208180   \n",
       "3        0.462249         530  747.158221       22.533957    0.080122   \n",
       "4        0.541660         640  704.781194       24.298782    0.667270   \n",
       "\n",
       "   card_offer  \n",
       "0         NaN  \n",
       "1         NaN  \n",
       "2         NaN  \n",
       "3         NaN  \n",
       "4         NaN  "
      ]
     },
     "execution_count": 29,
     "metadata": {},
     "output_type": "execute_result"
    }
   ],
   "source": [
    "pred.head()"
   ]
  },
  {
   "cell_type": "code",
   "execution_count": 30,
   "metadata": {},
   "outputs": [
    {
     "data": {
      "text/plain": [
       "customer_id          False\n",
       "demographic_slice    False\n",
       "country_reg          False\n",
       "ad_exp               False\n",
       "est_income           False\n",
       "hold_bal             False\n",
       "pref_cust_prob       False\n",
       "imp_cscore           False\n",
       "RiskScore            False\n",
       "imp_crediteval       False\n",
       "axio_score           False\n",
       "card_offer            True\n",
       "dtype: bool"
      ]
     },
     "execution_count": 30,
     "metadata": {},
     "output_type": "execute_result"
    }
   ],
   "source": [
    "pred.isnull().any()"
   ]
  },
  {
   "cell_type": "code",
   "execution_count": 31,
   "metadata": {},
   "outputs": [],
   "source": [
    "pred= pred.drop(['card_offer'],axis=1)"
   ]
  },
  {
   "cell_type": "code",
   "execution_count": 32,
   "metadata": {},
   "outputs": [
    {
     "data": {
      "text/plain": [
       "array(['AX03efs', 'BWEsk45', 'CARDIF2', 'DERS3w5'], dtype=object)"
      ]
     },
     "execution_count": 32,
     "metadata": {},
     "output_type": "execute_result"
    }
   ],
   "source": [
    "pred.demographic_slice.unique()"
   ]
  },
  {
   "cell_type": "code",
   "execution_count": 33,
   "metadata": {},
   "outputs": [
    {
     "data": {
      "text/plain": [
       "array(['W', 'E'], dtype=object)"
      ]
     },
     "execution_count": 33,
     "metadata": {},
     "output_type": "execute_result"
    }
   ],
   "source": [
    "pred.country_reg.unique()"
   ]
  },
  {
   "cell_type": "code",
   "execution_count": 34,
   "metadata": {},
   "outputs": [
    {
     "data": {
      "text/plain": [
       "array(['N', 'Y'], dtype=object)"
      ]
     },
     "execution_count": 34,
     "metadata": {},
     "output_type": "execute_result"
    }
   ],
   "source": [
    "pred.ad_exp.unique()"
   ]
  },
  {
   "cell_type": "code",
   "execution_count": 35,
   "metadata": {},
   "outputs": [
    {
     "data": {
      "text/html": [
       "<div>\n",
       "<style scoped>\n",
       "    .dataframe tbody tr th:only-of-type {\n",
       "        vertical-align: middle;\n",
       "    }\n",
       "\n",
       "    .dataframe tbody tr th {\n",
       "        vertical-align: top;\n",
       "    }\n",
       "\n",
       "    .dataframe thead th {\n",
       "        text-align: right;\n",
       "    }\n",
       "</style>\n",
       "<table border=\"1\" class=\"dataframe\">\n",
       "  <thead>\n",
       "    <tr style=\"text-align: right;\">\n",
       "      <th></th>\n",
       "      <th>customer_id</th>\n",
       "      <th>demographic_slice</th>\n",
       "      <th>country_reg</th>\n",
       "      <th>ad_exp</th>\n",
       "      <th>est_income</th>\n",
       "      <th>hold_bal</th>\n",
       "      <th>pref_cust_prob</th>\n",
       "      <th>imp_cscore</th>\n",
       "      <th>RiskScore</th>\n",
       "      <th>imp_crediteval</th>\n",
       "      <th>axio_score</th>\n",
       "    </tr>\n",
       "  </thead>\n",
       "  <tbody>\n",
       "    <tr>\n",
       "      <th>0</th>\n",
       "      <td>596723</td>\n",
       "      <td>AX03efs</td>\n",
       "      <td>W</td>\n",
       "      <td>0</td>\n",
       "      <td>26323.092380</td>\n",
       "      <td>3.000000</td>\n",
       "      <td>0.461364</td>\n",
       "      <td>603</td>\n",
       "      <td>505.509062</td>\n",
       "      <td>23.806688</td>\n",
       "      <td>0.351222</td>\n",
       "    </tr>\n",
       "    <tr>\n",
       "      <th>1</th>\n",
       "      <td>841834</td>\n",
       "      <td>AX03efs</td>\n",
       "      <td>E</td>\n",
       "      <td>1</td>\n",
       "      <td>67374.621650</td>\n",
       "      <td>17.861095</td>\n",
       "      <td>0.473517</td>\n",
       "      <td>650</td>\n",
       "      <td>466.158076</td>\n",
       "      <td>26.068803</td>\n",
       "      <td>0.080106</td>\n",
       "    </tr>\n",
       "    <tr>\n",
       "      <th>2</th>\n",
       "      <td>402401</td>\n",
       "      <td>AX03efs</td>\n",
       "      <td>E</td>\n",
       "      <td>0</td>\n",
       "      <td>1728.369713</td>\n",
       "      <td>21.604489</td>\n",
       "      <td>0.486220</td>\n",
       "      <td>606</td>\n",
       "      <td>603.346280</td>\n",
       "      <td>23.628955</td>\n",
       "      <td>0.208180</td>\n",
       "    </tr>\n",
       "    <tr>\n",
       "      <th>3</th>\n",
       "      <td>734431</td>\n",
       "      <td>AX03efs</td>\n",
       "      <td>E</td>\n",
       "      <td>1</td>\n",
       "      <td>15814.210260</td>\n",
       "      <td>22.058403</td>\n",
       "      <td>0.462249</td>\n",
       "      <td>530</td>\n",
       "      <td>747.158221</td>\n",
       "      <td>22.533957</td>\n",
       "      <td>0.080122</td>\n",
       "    </tr>\n",
       "    <tr>\n",
       "      <th>4</th>\n",
       "      <td>739547</td>\n",
       "      <td>AX03efs</td>\n",
       "      <td>W</td>\n",
       "      <td>1</td>\n",
       "      <td>45233.588190</td>\n",
       "      <td>1.000000</td>\n",
       "      <td>0.541660</td>\n",
       "      <td>640</td>\n",
       "      <td>704.781194</td>\n",
       "      <td>24.298782</td>\n",
       "      <td>0.667270</td>\n",
       "    </tr>\n",
       "  </tbody>\n",
       "</table>\n",
       "</div>"
      ],
      "text/plain": [
       "   customer_id demographic_slice country_reg  ad_exp    est_income   hold_bal  \\\n",
       "0       596723           AX03efs           W       0  26323.092380   3.000000   \n",
       "1       841834           AX03efs           E       1  67374.621650  17.861095   \n",
       "2       402401           AX03efs           E       0   1728.369713  21.604489   \n",
       "3       734431           AX03efs           E       1  15814.210260  22.058403   \n",
       "4       739547           AX03efs           W       1  45233.588190   1.000000   \n",
       "\n",
       "   pref_cust_prob  imp_cscore   RiskScore  imp_crediteval  axio_score  \n",
       "0        0.461364         603  505.509062       23.806688    0.351222  \n",
       "1        0.473517         650  466.158076       26.068803    0.080106  \n",
       "2        0.486220         606  603.346280       23.628955    0.208180  \n",
       "3        0.462249         530  747.158221       22.533957    0.080122  \n",
       "4        0.541660         640  704.781194       24.298782    0.667270  "
      ]
     },
     "execution_count": 35,
     "metadata": {},
     "output_type": "execute_result"
    }
   ],
   "source": [
    "pred['ad_exp'] = pred['ad_exp'].map({'Y': 1, 'N': 0})\n",
    "pred.head()"
   ]
  },
  {
   "cell_type": "code",
   "execution_count": 36,
   "metadata": {},
   "outputs": [
    {
     "data": {
      "text/html": [
       "<div>\n",
       "<style scoped>\n",
       "    .dataframe tbody tr th:only-of-type {\n",
       "        vertical-align: middle;\n",
       "    }\n",
       "\n",
       "    .dataframe tbody tr th {\n",
       "        vertical-align: top;\n",
       "    }\n",
       "\n",
       "    .dataframe thead th {\n",
       "        text-align: right;\n",
       "    }\n",
       "</style>\n",
       "<table border=\"1\" class=\"dataframe\">\n",
       "  <thead>\n",
       "    <tr style=\"text-align: right;\">\n",
       "      <th></th>\n",
       "      <th>customer_id</th>\n",
       "      <th>ad_exp</th>\n",
       "      <th>est_income</th>\n",
       "      <th>hold_bal</th>\n",
       "      <th>pref_cust_prob</th>\n",
       "      <th>imp_cscore</th>\n",
       "      <th>RiskScore</th>\n",
       "      <th>imp_crediteval</th>\n",
       "      <th>axio_score</th>\n",
       "      <th>demographic_slice_encoded</th>\n",
       "      <th>country_reg_encoded</th>\n",
       "    </tr>\n",
       "  </thead>\n",
       "  <tbody>\n",
       "    <tr>\n",
       "      <th>0</th>\n",
       "      <td>596723</td>\n",
       "      <td>0</td>\n",
       "      <td>26323.092380</td>\n",
       "      <td>3.000000</td>\n",
       "      <td>0.461364</td>\n",
       "      <td>603</td>\n",
       "      <td>505.509062</td>\n",
       "      <td>23.806688</td>\n",
       "      <td>0.351222</td>\n",
       "      <td>0</td>\n",
       "      <td>1</td>\n",
       "    </tr>\n",
       "    <tr>\n",
       "      <th>1</th>\n",
       "      <td>841834</td>\n",
       "      <td>1</td>\n",
       "      <td>67374.621650</td>\n",
       "      <td>17.861095</td>\n",
       "      <td>0.473517</td>\n",
       "      <td>650</td>\n",
       "      <td>466.158076</td>\n",
       "      <td>26.068803</td>\n",
       "      <td>0.080106</td>\n",
       "      <td>0</td>\n",
       "      <td>0</td>\n",
       "    </tr>\n",
       "    <tr>\n",
       "      <th>2</th>\n",
       "      <td>402401</td>\n",
       "      <td>0</td>\n",
       "      <td>1728.369713</td>\n",
       "      <td>21.604489</td>\n",
       "      <td>0.486220</td>\n",
       "      <td>606</td>\n",
       "      <td>603.346280</td>\n",
       "      <td>23.628955</td>\n",
       "      <td>0.208180</td>\n",
       "      <td>0</td>\n",
       "      <td>0</td>\n",
       "    </tr>\n",
       "    <tr>\n",
       "      <th>3</th>\n",
       "      <td>734431</td>\n",
       "      <td>1</td>\n",
       "      <td>15814.210260</td>\n",
       "      <td>22.058403</td>\n",
       "      <td>0.462249</td>\n",
       "      <td>530</td>\n",
       "      <td>747.158221</td>\n",
       "      <td>22.533957</td>\n",
       "      <td>0.080122</td>\n",
       "      <td>0</td>\n",
       "      <td>0</td>\n",
       "    </tr>\n",
       "    <tr>\n",
       "      <th>4</th>\n",
       "      <td>739547</td>\n",
       "      <td>1</td>\n",
       "      <td>45233.588190</td>\n",
       "      <td>1.000000</td>\n",
       "      <td>0.541660</td>\n",
       "      <td>640</td>\n",
       "      <td>704.781194</td>\n",
       "      <td>24.298782</td>\n",
       "      <td>0.667270</td>\n",
       "      <td>0</td>\n",
       "      <td>1</td>\n",
       "    </tr>\n",
       "  </tbody>\n",
       "</table>\n",
       "</div>"
      ],
      "text/plain": [
       "   customer_id  ad_exp    est_income   hold_bal  pref_cust_prob  imp_cscore  \\\n",
       "0       596723       0  26323.092380   3.000000        0.461364         603   \n",
       "1       841834       1  67374.621650  17.861095        0.473517         650   \n",
       "2       402401       0   1728.369713  21.604489        0.486220         606   \n",
       "3       734431       1  15814.210260  22.058403        0.462249         530   \n",
       "4       739547       1  45233.588190   1.000000        0.541660         640   \n",
       "\n",
       "    RiskScore  imp_crediteval  axio_score  demographic_slice_encoded  \\\n",
       "0  505.509062       23.806688    0.351222                          0   \n",
       "1  466.158076       26.068803    0.080106                          0   \n",
       "2  603.346280       23.628955    0.208180                          0   \n",
       "3  747.158221       22.533957    0.080122                          0   \n",
       "4  704.781194       24.298782    0.667270                          0   \n",
       "\n",
       "   country_reg_encoded  \n",
       "0                    1  \n",
       "1                    0  \n",
       "2                    0  \n",
       "3                    0  \n",
       "4                    1  "
      ]
     },
     "execution_count": 36,
     "metadata": {},
     "output_type": "execute_result"
    }
   ],
   "source": [
    "pred_sklearn = pred.copy()\n",
    "lb_make = LabelEncoder()\n",
    "pred_sklearn['demographic_slice_encoded'] = lb_make.fit_transform(pred['demographic_slice'])\n",
    "pred_sklearn['country_reg_encoded'] = lb_make.fit_transform(pred['country_reg'])\n",
    "pred_sklearn=pred_sklearn.drop(['demographic_slice', 'country_reg'], axis=1)\n",
    "pred_sklearn.head()\n"
   ]
  },
  {
   "cell_type": "markdown",
   "metadata": {},
   "source": [
    "Now the above data is ready to be applied to our learning model"
   ]
  },
  {
   "cell_type": "code",
   "execution_count": 37,
   "metadata": {},
   "outputs": [],
   "source": [
    "ada = AdaBoostClassifier();\n",
    "model = ada.fit(X_train, y_train)"
   ]
  },
  {
   "cell_type": "code",
   "execution_count": 38,
   "metadata": {},
   "outputs": [
    {
     "data": {
      "text/plain": [
       "array([False, False, False, ...,  True,  True, False])"
      ]
     },
     "execution_count": 38,
     "metadata": {},
     "output_type": "execute_result"
    }
   ],
   "source": [
    "y_pred=model.predict(pred_sklearn)\n",
    "y_pred"
   ]
  },
  {
   "cell_type": "markdown",
   "metadata": {},
   "source": [
    "## Now that we have the prediction ready. Writing the prediction to a csv file named ds4.csv"
   ]
  },
  {
   "cell_type": "code",
   "execution_count": 39,
   "metadata": {},
   "outputs": [],
   "source": [
    "def write_to_csv(predction):\n",
    "    submission = pd.DataFrame()\n",
    "    submission['Id'] = pred_sklearn.customer_id\n",
    "    submission['Card_Offer']=predction\n",
    "    submission.to_csv('ds4.csv', index=False)"
   ]
  },
  {
   "cell_type": "code",
   "execution_count": 40,
   "metadata": {},
   "outputs": [],
   "source": [
    "write_to_csv(y_pred)"
   ]
  },
  {
   "cell_type": "markdown",
   "metadata": {},
   "source": [
    "# End of NoteBook. Refer ds4.csv to find predictions along with customer id"
   ]
  },
  {
   "cell_type": "code",
   "execution_count": null,
   "metadata": {},
   "outputs": [],
   "source": []
  }
 ],
 "metadata": {
  "kernelspec": {
   "display_name": "Python 3",
   "language": "python",
   "name": "python3"
  },
  "language_info": {
   "codemirror_mode": {
    "name": "ipython",
    "version": 3
   },
   "file_extension": ".py",
   "mimetype": "text/x-python",
   "name": "python",
   "nbconvert_exporter": "python",
   "pygments_lexer": "ipython3",
   "version": "3.6.4"
  }
 },
 "nbformat": 4,
 "nbformat_minor": 2
}
